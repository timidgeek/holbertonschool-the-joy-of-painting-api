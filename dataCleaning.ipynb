{
 "cells": [
  {
   "cell_type": "code",
   "execution_count": 56,
   "metadata": {},
   "outputs": [],
   "source": [
    "import pandas as pd\n",
    "import ast"
   ]
  },
  {
   "cell_type": "code",
   "execution_count": 57,
   "metadata": {},
   "outputs": [],
   "source": [
    "# Linking to read from csv\n",
    "colors = pd.read_csv('./datasets/colors.csv')\n",
    "subject = pd.read_csv('./datasets/subject.csv')\n",
    "dates = pd.read_fwf('./datasets/dates.txt',\n",
    "                    header = None)\n"
   ]
  },
  {
   "cell_type": "code",
   "execution_count": 58,
   "metadata": {},
   "outputs": [],
   "source": [
    "# Split data, only after first occurrence of '\" '\n",
    "dates[['Title', 'Date']] = dates[0].str.extract(r'\"(.*?)\" \\((.*?)\\)')\n",
    "\n",
    "# Add  separate column for month\n",
    "dates['Month'] = dates['Date'].str.extract(r'(\\w+) \\d+, \\d+')\n",
    "\n",
    "# Remove extra column\n",
    "del dates[0]"
   ]
  },
  {
   "cell_type": "code",
   "execution_count": 59,
   "metadata": {},
   "outputs": [],
   "source": [
    "\n",
    "# # Remove unnamed column\n",
    "# del colors['Unnamed: 0']\n",
    "\n",
    "# Renaming columns to a common name 'Title' for consistency\n",
    "dates.rename(columns={'Title': 'Title'}, inplace=True)\n",
    "subject.rename(columns={'TITLE': 'Title'}, inplace=True)\n",
    "colors.rename(columns={'painting_title': 'Title'}, inplace=True)\n",
    "\n",
    "# Standardize content of common column to title case\n",
    "dates['Title'] = dates['Title'].str.title()\n",
    "subject['Title'] = subject['Title'].str.title()\n",
    "colors['Title'] = colors['Title'].str.title()\n",
    "\n",
    "# Remove 'frames' data\n",
    "subject = subject.loc[:, ~subject.columns.str.contains('FRAME', case=False)]\n",
    "\n",
    "# Standardize content of all columns in `subject` to title case\n",
    "subject = subject.rename(columns = str.title)\n",
    "\n",
    "\n",
    "# Remove quotes from 'Title' for consistency before merging\n",
    "subject['Title'] = subject['Title'].str.replace('\"', '')\n",
    "\n",
    "# Merging based on the standardized common column 'Title'\n",
    "merged = pd.merge(dates, colors, on='Title')\n",
    "merged = pd.merge(merged, subject, on='Title')\n",
    "\n",
    "# Convert string representation of lists to actual lists\n",
    "merged['colors'] = merged['colors'].apply(ast.literal_eval)\n",
    "\n",
    "# Replace the '\\r\\n' in the lists\n",
    "merged['colors'] = merged['colors'].apply(lambda x: [color.replace('\\r\\n', '') for color in x])\n",
    "\n",
    "# Function to remove square brackets and quotes\n",
    "def format_colors(colors_str):\n",
    "    # Remove square brackets and single quotes and split the string into a list\n",
    "    colors_list = colors_str.strip(\"[]\").replace(\"'\", \"\").split(', ')\n",
    "    return ', '.join(colors_list)  # Join list elements into a string\n",
    "\n",
    "# Convert list back to string, otherwise can't load into MySQL table\n",
    "merged['colors'] = merged['colors'].apply(str)\n",
    "\n",
    "# Format string lists\n",
    "merged['colors'] = merged['colors'].apply(format_colors)\n",
    "merged['color_hex'] = merged['color_hex'].apply(format_colors)\n",
    "\n",
    "# Drop the 'season' and 'episode' columns\n",
    "merged.drop(['season', 'episode'], axis=1, inplace=True)\n",
    "\n",
    "# Convert the date string to a Pandas datetime object\n",
    "date = pd.to_datetime(merged['Date'])\n",
    "\n",
    "# Format the date in MySQL format \"YYYY-MM-DD\"\n",
    "merged['Date'] = date.dt.strftime('%Y-%m-%d')\n",
    "\n"
   ]
  },
  {
   "cell_type": "code",
   "execution_count": 60,
   "metadata": {},
   "outputs": [],
   "source": [
    "# List of columns representing subjects\n",
    "subject_columns = ['Aurora_Borealis', 'Barn', 'Beach', 'Boat', 'Bridge',\n",
    "       'Building', 'Bushes', 'Cabin', 'Cactus', 'Cirrus', 'Cliff', 'Clouds',\n",
    "       'Conifer', 'Cumulus', 'Deciduous', 'Diane_Andre', 'Dock', 'Farm',\n",
    "       'Fence', 'Fire', 'Flowers', 'Fog', 'Grass', 'Guest', 'Hills', 'Lake',\n",
    "       'Lakes', 'Lighthouse', 'Mill', 'Moon', 'Mountain', 'Mountains', 'Night',\n",
    "       'Ocean', 'Palm_Trees', 'Path', 'Person', 'Portrait', 'River', 'Rocks',\n",
    "       'Snow', 'Snowy_Mountain', 'Steve_Ross', 'Structure', 'Sun', 'Tree',\n",
    "       'Trees', 'Waterfall', 'Waves', 'Windmill', 'Winter']\n",
    "\n",
    "# Create a new 'subject' column containing a comma-separated list of subjects where value is 1\n",
    "# Not gonna lie I feel like a genius for this one\n",
    "merged['subject'] = merged.apply(lambda row: ', '.join([column for column in subject_columns if row[column] == 1]), axis=1)\n",
    "\n",
    "# # format subject content to remove underscores\n",
    "# merged['subject'] = merged['subject'].apply(lambda x: [subject.replace('_', ' ') for subject in x])\n",
    "merged['subject'] = merged['subject'].str.replace('_', ' ')\n",
    "\n",
    "# Reorder columns and remove bulk / extra data\n",
    "new_order = ['Title', 'Date', 'Month', 'Episode', 'id', 'painting_index', 'img_src',\n",
    "       'youtube_src',  'num_colors', 'colors', 'subject', 'color_hex']\n",
    "merged = merged[new_order]\n",
    "\n"
   ]
  },
  {
   "cell_type": "code",
   "execution_count": 61,
   "metadata": {},
   "outputs": [],
   "source": [
    "# Function to customize title case\n",
    "def custom_title_case(text):\n",
    "    words = text.split()\n",
    "    processed_words = []\n",
    "    for word in words:\n",
    "        if \"'\" in word:\n",
    "            word_parts = word.split(\"'\")\n",
    "            # Lowercase 's after the apostrophe\n",
    "            word_parts[-1] = word_parts[-1].lower()\n",
    "            word = \"'\".join(word_parts)\n",
    "        processed_words.append(word.capitalize())\n",
    "    return \" \".join(processed_words)\n",
    "\n",
    "# Applying the custom title case function to the 'titles' column\n",
    "merged['Title'] = merged['Title'].apply(lambda x: custom_title_case(x))\n",
    "\n",
    "\n",
    "# Save to CSV\n",
    "merged.to_csv('bob_rocks.csv')"
   ]
  },
  {
   "cell_type": "code",
   "execution_count": 62,
   "metadata": {},
   "outputs": [
    {
     "data": {
      "text/plain": [
       "Index(['Title', 'Date', 'Month', 'Episode', 'id', 'painting_index', 'img_src',\n",
       "       'youtube_src', 'num_colors', 'colors', 'subject', 'color_hex'],\n",
       "      dtype='object')"
      ]
     },
     "execution_count": 62,
     "metadata": {},
     "output_type": "execute_result"
    }
   ],
   "source": [
    "merged.columns"
   ]
  }
 ],
 "metadata": {
  "kernelspec": {
   "display_name": "Python 3",
   "language": "python",
   "name": "python3"
  },
  "language_info": {
   "codemirror_mode": {
    "name": "ipython",
    "version": 3
   },
   "file_extension": ".py",
   "mimetype": "text/x-python",
   "name": "python",
   "nbconvert_exporter": "python",
   "pygments_lexer": "ipython3",
   "version": "3.11.1"
  }
 },
 "nbformat": 4,
 "nbformat_minor": 2
}
