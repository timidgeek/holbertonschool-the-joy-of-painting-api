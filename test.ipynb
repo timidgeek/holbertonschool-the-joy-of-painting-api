{
 "cells": [
  {
   "cell_type": "code",
   "execution_count": 27,
   "metadata": {},
   "outputs": [],
   "source": [
    "import pandas as pd\n",
    "import ast"
   ]
  },
  {
   "cell_type": "code",
   "execution_count": 28,
   "metadata": {},
   "outputs": [],
   "source": [
    "# Linking to read from csv\n",
    "colors = pd.read_csv('./datasets/colors.csv')\n",
    "subject = pd.read_csv('./datasets/subject.csv')\n",
    "dates = pd.read_fwf('./datasets/dates.txt',\n",
    "                    header = None)\n"
   ]
  },
  {
   "cell_type": "code",
   "execution_count": 29,
   "metadata": {},
   "outputs": [],
   "source": [
    "# Split data, only after first occurrence of '\" '\n",
    "dates[['Title', 'Date']] = dates[0].str.extract(r'\"(.*?)\" \\((.*?)\\)')\n",
    "\n",
    "# Add  separate column for month\n",
    "dates['Month'] = dates['Date'].str.extract(r'(\\w+) \\d+, \\d+')\n",
    "\n",
    "# Remove extra column\n",
    "del dates[0]"
   ]
  },
  {
   "cell_type": "code",
   "execution_count": 30,
   "metadata": {},
   "outputs": [],
   "source": [
    "# Remove unnamed column\n",
    "del colors['Unnamed: 0']\n",
    "\n",
    "# Renaming columns to a common name 'Title' for consistency\n",
    "dates.rename(columns={'Title': 'Title'}, inplace=True)\n",
    "subject.rename(columns={'TITLE': 'Title'}, inplace=True)\n",
    "colors.rename(columns={'painting_title': 'Title'}, inplace=True)\n",
    "\n",
    "# Standardize content of common column to title case\n",
    "dates['Title'] = dates['Title'].str.title()\n",
    "subject['Title'] = subject['Title'].str.title()\n",
    "colors['Title'] = colors['Title'].str.title()\n",
    "\n",
    "# Remove 'frames' data\n",
    "subject = subject.loc[:, ~subject.columns.str.contains('FRAME', case=False)]\n",
    "\n",
    "# Standardize content of all columns in `subject` to title case\n",
    "subject = subject.rename(columns = str.title)\n",
    "\n",
    "\n",
    "# Remove quotes from 'Title' for consistency before merging\n",
    "subject['Title'] = subject['Title'].str.replace('\"', '')\n",
    "\n",
    "# Merging based on the standardized common column 'Title'\n",
    "merged = pd.merge(dates, colors, on='Title')\n",
    "merged = pd.merge(merged, subject, on='Title')\n",
    "\n",
    "# Convert string representation of lists to actual lists\n",
    "merged['colors'] = merged['colors'].apply(ast.literal_eval)\n",
    "\n",
    "# Replace the '\\r\\n' in the lists\n",
    "merged['colors'] = merged['colors'].apply(lambda x: [color.replace('\\r\\n', '') for color in x])\n",
    "\n",
    "# Function to remove square brackets and quotes\n",
    "def format_colors(colors_str):\n",
    "    # Remove square brackets and single quotes and split the string into a list\n",
    "    colors_list = colors_str.strip(\"[]\").replace(\"'\", \"\").split(', ')\n",
    "    return ', '.join(colors_list)  # Join list elements into a string\n",
    "\n",
    "# Convert list back to string, otherwise can't load into MySQL table\n",
    "merged['colors'] = merged['colors'].apply(str)\n",
    "\n",
    "# Format string lists\n",
    "merged['colors'] = merged['colors'].apply(format_colors)\n",
    "merged['color_hex'] = merged['color_hex'].apply(format_colors)\n",
    "\n",
    "# Drop the 'season' and 'episode' columns\n",
    "merged.drop(['season', 'episode'], axis=1, inplace=True)\n",
    "\n",
    "# Reorder columns\n",
    "new_order = ['Title', 'Date', 'Month', 'Episode', 'painting_index', 'img_src',\n",
    "       'youtube_src',  'num_colors', 'colors', 'color_hex', 'Black_Gesso', 'Bright_Red',\n",
    "       'Burnt_Umber', 'Cadmium_Yellow', 'Dark_Sienna', 'Indian_Red',\n",
    "       'Indian_Yellow', 'Liquid_Black', 'Liquid_Clear', 'Midnight_Black',\n",
    "       'Phthalo_Blue', 'Phthalo_Green', 'Prussian_Blue', 'Sap_Green',\n",
    "       'Titanium_White', 'Van_Dyke_Brown', 'Yellow_Ochre', 'Alizarin_Crimson',\n",
    "       'Aurora_Borealis', 'Barn', 'Beach', 'Boat', 'Bridge',\n",
    "       'Building', 'Bushes', 'Cabin', 'Cactus', 'Cirrus', 'Cliff', 'Clouds',\n",
    "       'Conifer', 'Cumulus', 'Deciduous', 'Diane_Andre', 'Dock', 'Farm',\n",
    "       'Fence', 'Fire', 'Flowers', 'Fog', 'Grass', 'Guest', 'Hills', 'Lake',\n",
    "       'Lakes', 'Lighthouse', 'Mill', 'Moon', 'Mountain', 'Mountains', 'Night',\n",
    "       'Ocean', 'Palm_Trees', 'Path', 'Person', 'Portrait', 'River', 'Rocks',\n",
    "       'Snow', 'Snowy_Mountain', 'Steve_Ross', 'Structure', 'Sun', 'Tree',\n",
    "       'Trees', 'Waterfall', 'Waves', 'Windmill', 'Winter']\n",
    "merged = merged[new_order]\n",
    "\n",
    "# Save to CSV\n",
    "merged.to_csv('bob_rocks.csv')\n"
   ]
  },
  {
   "cell_type": "code",
   "execution_count": 31,
   "metadata": {},
   "outputs": [
    {
     "data": {
      "text/plain": [
       "Index(['Title', 'Date', 'Month', 'Episode', 'painting_index', 'img_src',\n",
       "       'youtube_src', 'num_colors', 'colors', 'color_hex', 'Black_Gesso',\n",
       "       'Bright_Red', 'Burnt_Umber', 'Cadmium_Yellow', 'Dark_Sienna',\n",
       "       'Indian_Red', 'Indian_Yellow', 'Liquid_Black', 'Liquid_Clear',\n",
       "       'Midnight_Black', 'Phthalo_Blue', 'Phthalo_Green', 'Prussian_Blue',\n",
       "       'Sap_Green', 'Titanium_White', 'Van_Dyke_Brown', 'Yellow_Ochre',\n",
       "       'Alizarin_Crimson', 'Aurora_Borealis', 'Barn', 'Beach', 'Boat',\n",
       "       'Bridge', 'Building', 'Bushes', 'Cabin', 'Cactus', 'Cirrus', 'Cliff',\n",
       "       'Clouds', 'Conifer', 'Cumulus', 'Deciduous', 'Diane_Andre', 'Dock',\n",
       "       'Farm', 'Fence', 'Fire', 'Flowers', 'Fog', 'Grass', 'Guest', 'Hills',\n",
       "       'Lake', 'Lakes', 'Lighthouse', 'Mill', 'Moon', 'Mountain', 'Mountains',\n",
       "       'Night', 'Ocean', 'Palm_Trees', 'Path', 'Person', 'Portrait', 'River',\n",
       "       'Rocks', 'Snow', 'Snowy_Mountain', 'Steve_Ross', 'Structure', 'Sun',\n",
       "       'Tree', 'Trees', 'Waterfall', 'Waves', 'Windmill', 'Winter'],\n",
       "      dtype='object')"
      ]
     },
     "execution_count": 31,
     "metadata": {},
     "output_type": "execute_result"
    }
   ],
   "source": [
    "merged.columns"
   ]
  }
 ],
 "metadata": {
  "kernelspec": {
   "display_name": "Python 3",
   "language": "python",
   "name": "python3"
  },
  "language_info": {
   "codemirror_mode": {
    "name": "ipython",
    "version": 3
   },
   "file_extension": ".py",
   "mimetype": "text/x-python",
   "name": "python",
   "nbconvert_exporter": "python",
   "pygments_lexer": "ipython3",
   "version": "3.11.1"
  }
 },
 "nbformat": 4,
 "nbformat_minor": 2
}
